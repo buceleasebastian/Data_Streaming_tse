{
 "cells": [
  {
   "cell_type": "markdown",
   "metadata": {
    "id": "UND2aBr1mX6D"
   },
   "source": [
    "# Creating the .csv"
   ]
  },
  {
   "cell_type": "code",
   "execution_count": 1,
   "metadata": {},
   "outputs": [],
   "source": [
    "import yfinance as yf\n",
    "import pandas as pd\n",
    "import os.path\n",
    "import time\n",
    "import datetime\n",
    "import pytz\n",
    "from pandas import Timestamp"
   ]
  },
  {
   "cell_type": "markdown",
   "metadata": {},
   "source": [
    "First, we are going to create a .csv file for the first month of 2023."
   ]
  },
  {
   "cell_type": "code",
   "execution_count": 2,
   "metadata": {
    "colab": {
     "base_uri": "https://localhost:8080/"
    },
    "id": "Tpg9yj9W2Bo3",
    "outputId": "7822e461-330f-4f30-8886-4a58e9f85ae1"
   },
   "outputs": [
    {
     "name": "stdout",
     "output_type": "stream",
     "text": [
      "[*********************100%***********************]  1 of 1 completed\n",
      "                                 Open        High         Low       Close  \\\n",
      "Datetime                                                                    \n",
      "2023-03-31 11:30:00-04:00  163.097504  163.899994  162.919998  163.889999   \n",
      "2023-03-31 12:30:00-04:00  163.884995  164.074997  163.570007  163.884995   \n",
      "2023-03-31 13:30:00-04:00  163.880005  164.175003  163.649994  164.074997   \n",
      "2023-03-31 14:30:00-04:00  164.074997  164.940002  164.000000  164.880005   \n",
      "2023-03-31 15:30:00-04:00  164.880005  165.000000  164.125000  164.839996   \n",
      "\n",
      "                            Adj Close    Volume  \n",
      "Datetime                                         \n",
      "2023-03-31 11:30:00-04:00  163.889999   4921522  \n",
      "2023-03-31 12:30:00-04:00  163.884995   6106203  \n",
      "2023-03-31 13:30:00-04:00  164.074997   4040886  \n",
      "2023-03-31 14:30:00-04:00  164.880005   8018199  \n",
      "2023-03-31 15:30:00-04:00  164.839996  12697522  \n"
     ]
    }
   ],
   "source": [
    "# define the stock symbol and time range\n",
    "symbol = 'AAPL'\n",
    "start_date = '2022-03-01'\n",
    "end_date = '2023-04-01'\n",
    "\n",
    "# retrieve the stock price data\n",
    "data = yf.download(symbol, start=start_date, end=end_date, interval='1h')\n",
    "\n",
    "# save the data as a CSV file\n",
    "data.to_csv(f'{symbol}_prices.csv')\n",
    "\n",
    "print(data.tail())"
   ]
  },
  {
   "cell_type": "markdown",
   "metadata": {},
   "source": [
    "# Updating the .csv"
   ]
  },
  {
   "cell_type": "markdown",
   "metadata": {},
   "source": [
    "Now, we do check that the csv is created"
   ]
  },
  {
   "cell_type": "code",
   "execution_count": 3,
   "metadata": {},
   "outputs": [],
   "source": [
    "# check if the CSV file exists\n",
    "filename = f'{symbol}_prices.csv'\n",
    "if os.path.isfile(filename):\n",
    "    # if the file exists, read it in as a DataFrame\n",
    "    data = pd.read_csv(filename, index_col='Datetime', parse_dates=True)\n",
    "else:\n",
    "    # if the file doesn't exist, create an empty DataFrame\n",
    "    data = pd.DataFrame()"
   ]
  },
  {
   "cell_type": "markdown",
   "metadata": {},
   "source": [
    "Finally, we keep updating the .csv with the latest data"
   ]
  },
  {
   "cell_type": "code",
   "execution_count": 4,
   "metadata": {},
   "outputs": [
    {
     "name": "stdout",
     "output_type": "stream",
     "text": [
      "[*********************100%***********************]  1 of 1 completed\n",
      "[*********************100%***********************]  1 of 1 completed\n"
     ]
    }
   ],
   "source": [
    "while True:\n",
    "    # retrieve the latest available stock price data\n",
    "    tz = pytz.timezone('America/New_York')\n",
    "    now = datetime.datetime.now(tz)\n",
    "    end_date = Timestamp(now)\n",
    "    latest_data = yf.download(symbol, period='1d', interval='1h').iloc[-1]\n",
    "\n",
    "    # check if the latest data is different from the last row in the existing DataFrame\n",
    "    if not data.empty and not latest_data.equals(data.tail(1).iloc[0]):\n",
    "        # retrieve any new stock price data since the last update\n",
    "        new_data = yf.download(symbol, start=data.index[-1] + pd.Timedelta(hours=1), end=end_date, interval='1h')\n",
    "\n",
    "        # append the new data to the existing DataFrame\n",
    "        data = pd.concat([data, new_data])\n",
    "\n",
    "        # save the updated data as a CSV file\n",
    "        data.to_csv(filename)\n",
    "\n",
    "    # wait for 1 hour before checking again\n",
    "    time.sleep(1800)"
   ]
  }
 ],
 "metadata": {
  "colab": {
   "provenance": []
  },
  "kernelspec": {
   "display_name": "Python 3",
   "language": "python",
   "name": "python3"
  },
  "language_info": {
   "codemirror_mode": {
    "name": "ipython",
    "version": 3
   },
   "file_extension": ".py",
   "mimetype": "text/x-python",
   "name": "python",
   "nbconvert_exporter": "python",
   "pygments_lexer": "ipython3",
   "version": "3.11.1"
  }
 },
 "nbformat": 4,
 "nbformat_minor": 1
}
