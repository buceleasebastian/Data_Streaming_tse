{
 "cells": [
  {
   "cell_type": "markdown",
   "metadata": {
    "id": "UND2aBr1mX6D"
   },
   "source": [
    "# Creating the .csv"
   ]
  },
  {
   "cell_type": "code",
   "execution_count": 2,
   "metadata": {},
   "outputs": [],
   "source": [
    "import yfinance as yf\n",
    "import pandas as pd\n",
    "import os.path\n",
    "import time\n",
    "import datetime"
   ]
  },
  {
   "cell_type": "markdown",
   "metadata": {},
   "source": [
    "First, we are going to create a .csv file for the first month of 2023."
   ]
  },
  {
   "cell_type": "code",
   "execution_count": 3,
   "metadata": {
    "colab": {
     "base_uri": "https://localhost:8080/"
    },
    "id": "Tpg9yj9W2Bo3",
    "outputId": "7822e461-330f-4f30-8886-4a58e9f85ae1"
   },
   "outputs": [
    {
     "name": "stdout",
     "output_type": "stream",
     "text": [
      "[*********************100%***********************]  1 of 1 completed\n",
      "                                 Open        High         Low       Close  \\\n",
      "Datetime                                                                    \n",
      "2023-01-31 11:30:00-05:00  143.535004  143.639999  142.979996  143.535004   \n",
      "2023-01-31 12:30:00-05:00  143.520004  143.660004  143.160004  143.414993   \n",
      "2023-01-31 13:30:00-05:00  143.419998  143.910004  143.299896  143.824997   \n",
      "2023-01-31 14:30:00-05:00  143.830002  144.039993  143.259995  143.304993   \n",
      "2023-01-31 15:30:00-05:00  143.300003  144.339996  143.119995  144.289993   \n",
      "\n",
      "                            Adj Close   Volume  \n",
      "Datetime                                        \n",
      "2023-01-31 11:30:00-05:00  143.535004  4771951  \n",
      "2023-01-31 12:30:00-05:00  143.414993  3376057  \n",
      "2023-01-31 13:30:00-05:00  143.824997  3694091  \n",
      "2023-01-31 14:30:00-05:00  143.304993  5273359  \n",
      "2023-01-31 15:30:00-05:00  144.289993  8519107  \n"
     ]
    }
   ],
   "source": [
    "# define the stock symbol and time range\n",
    "symbol = 'AAPL'\n",
    "start_date = '2023-01-01'\n",
    "end_date = '2023-02-01'\n",
    "\n",
    "# retrieve the stock price data\n",
    "data = yf.download(symbol, start=start_date, end=end_date, interval='1h')\n",
    "\n",
    "# save the data as a CSV file\n",
    "data.to_csv(f'{symbol}_prices.csv')\n",
    "\n",
    "print(data.tail())"
   ]
  },
  {
   "cell_type": "markdown",
   "metadata": {},
   "source": [
    "# Updating the .csv"
   ]
  },
  {
   "cell_type": "markdown",
   "metadata": {},
   "source": [
    "Now, we do check that the csv is created"
   ]
  },
  {
   "cell_type": "code",
   "execution_count": 4,
   "metadata": {},
   "outputs": [],
   "source": [
    "# check if the CSV file exists\n",
    "filename = f'{symbol}_prices.csv'\n",
    "if os.path.isfile(filename):\n",
    "    # if the file exists, read it in as a DataFrame\n",
    "    data = pd.read_csv(filename, index_col='Datetime', parse_dates=True)\n",
    "else:\n",
    "    # if the file doesn't exist, create an empty DataFrame\n",
    "    data = pd.DataFrame()"
   ]
  },
  {
   "cell_type": "markdown",
   "metadata": {},
   "source": [
    "Finally, we keep updating the .csv with the latest data"
   ]
  },
  {
   "cell_type": "code",
   "execution_count": 5,
   "metadata": {
    "id": "e3aE9Hc-dBxy"
   },
   "outputs": [
    {
     "name": "stdout",
     "output_type": "stream",
     "text": [
      "[*********************100%***********************]  1 of 1 completed\n",
      "[*********************100%***********************]  1 of 1 completed\n",
      "[*********************100%***********************]  1 of 1 completed\n"
     ]
    },
    {
     "ename": "KeyboardInterrupt",
     "evalue": "",
     "output_type": "error",
     "traceback": [
      "\u001b[0;31m---------------------------------------------------------------------------\u001b[0m",
      "\u001b[0;31mKeyboardInterrupt\u001b[0m                         Traceback (most recent call last)",
      "\u001b[0;32m<ipython-input-5-3e6fe5c52244>\u001b[0m in \u001b[0;36m<module>\u001b[0;34m\u001b[0m\n\u001b[1;32m     18\u001b[0m \u001b[0;34m\u001b[0m\u001b[0m\n\u001b[1;32m     19\u001b[0m     \u001b[0;31m# wait for 30 seconds before checking again\u001b[0m\u001b[0;34m\u001b[0m\u001b[0;34m\u001b[0m\u001b[0;34m\u001b[0m\u001b[0m\n\u001b[0;32m---> 20\u001b[0;31m     \u001b[0mtime\u001b[0m\u001b[0;34m.\u001b[0m\u001b[0msleep\u001b[0m\u001b[0;34m(\u001b[0m\u001b[0;36m4\u001b[0m\u001b[0;34m)\u001b[0m\u001b[0;34m\u001b[0m\u001b[0;34m\u001b[0m\u001b[0m\n\u001b[0m",
      "\u001b[0;31mKeyboardInterrupt\u001b[0m: "
     ]
    }
   ],
   "source": [
    "symbol = 'AAPL'\n",
    "end_date = datetime.date.today()\n",
    "\n",
    "while True:\n",
    "    # retrieve the latest available stock price data\n",
    "    latest_data = yf.download(symbol, period='1d', interval='1h').iloc[-1]\n",
    "\n",
    "    # check if the latest data is different from the last row in the existing DataFrame\n",
    "    if not data.empty and not latest_data.equals(data.tail(1).iloc[0]):\n",
    "        # retrieve any new stock price data since the last update\n",
    "        new_data = yf.download(symbol, start=data.index[-1] + pd.Timedelta(hours=1), end=end_date, interval='1h')\n",
    "\n",
    "        # append the new data to the existing DataFrame\n",
    "        data = pd.concat([data, new_data])\n",
    "\n",
    "        # save the updated data as a CSV file\n",
    "        data.to_csv(filename)\n",
    "\n",
    "    # wait for 30 seconds before checking again\n",
    "    time.sleep(4)"
   ]
  },
  {
   "cell_type": "code",
   "execution_count": 6,
   "metadata": {},
   "outputs": [
    {
     "name": "stdout",
     "output_type": "stream",
     "text": [
      "                                 Open        High         Low       Close  \\\n",
      "Datetime                                                                    \n",
      "2023-01-03 09:30:00-05:00  130.279999  130.899994  125.230003  125.459999   \n",
      "2023-01-03 10:30:00-05:00  125.459999  125.870003  124.730003  125.345001   \n",
      "2023-01-03 11:30:00-05:00  125.350197  125.370003  124.349098  124.660004   \n",
      "2023-01-03 12:30:00-05:00  124.660004  124.940002  124.190002  124.649902   \n",
      "2023-01-03 13:30:00-05:00  124.669899  125.000000  124.190002  124.570000   \n",
      "...                               ...         ...         ...         ...   \n",
      "2023-04-05 11:30:00-04:00  163.279999  163.520004  162.110001  162.229996   \n",
      "2023-04-05 12:30:00-04:00  162.199997  162.970001  161.800003  162.869995   \n",
      "2023-04-05 13:30:00-04:00  162.869995  163.119202  162.649994  162.697601   \n",
      "2023-04-05 14:30:00-04:00  162.690002  163.399994  162.669998  163.255005   \n",
      "2023-04-05 15:30:00-04:00  163.259995  163.949997  163.210007  163.759995   \n",
      "\n",
      "                            Adj Close    Volume  \n",
      "Datetime                                         \n",
      "2023-01-03 09:30:00-05:00  125.459999  27775505  \n",
      "2023-01-03 10:30:00-05:00  125.345001  18104999  \n",
      "2023-01-03 11:30:00-05:00  124.660004  11248777  \n",
      "2023-01-03 12:30:00-05:00  124.649902   8860080  \n",
      "2023-01-03 13:30:00-05:00  124.570000   8388062  \n",
      "...                               ...       ...  \n",
      "2023-04-05 11:30:00-04:00  162.229996   6697154  \n",
      "2023-04-05 12:30:00-04:00  162.869995   5932860  \n",
      "2023-04-05 13:30:00-04:00  162.697601   4269002  \n",
      "2023-04-05 14:30:00-04:00  163.255005   4789126  \n",
      "2023-04-05 15:30:00-04:00  163.759995   5867999  \n",
      "\n",
      "[455 rows x 6 columns]\n"
     ]
    }
   ],
   "source": [
    "print(data)"
   ]
  }
 ],
 "metadata": {
  "colab": {
   "provenance": []
  },
  "kernelspec": {
   "display_name": "Python 3",
   "language": "python",
   "name": "python3"
  },
  "language_info": {
   "codemirror_mode": {
    "name": "ipython",
    "version": 3
   },
   "file_extension": ".py",
   "mimetype": "text/x-python",
   "name": "python",
   "nbconvert_exporter": "python",
   "pygments_lexer": "ipython3",
   "version": "3.7.6"
  }
 },
 "nbformat": 4,
 "nbformat_minor": 1
}
