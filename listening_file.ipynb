{
 "cells": [
  {
   "cell_type": "code",
   "execution_count": 2,
   "metadata": {},
   "outputs": [],
   "source": [
    "import os \n",
    "import sys\n",
    "import time\n",
    "import pandas as pd\n",
    "from watchdog.observers import Observer\n",
    "from watchdog.events import FileSystemEventHandler"
   ]
  },
  {
   "cell_type": "code",
   "execution_count": 8,
   "metadata": {},
   "outputs": [
    {
     "name": "stdout",
     "output_type": "stream",
     "text": [
      "Monitoring started\n"
     ]
    },
    {
     "name": "stderr",
     "output_type": "stream",
     "text": [
      "Exception in thread Thread-9:\n",
      "Traceback (most recent call last):\n",
      "  File \"c:\\Users\\lilib\\AppData\\Local\\Programs\\Python\\Python311\\Lib\\threading.py\", line 1038, in _bootstrap_inner\n",
      "    self.run()\n",
      "  File \"c:\\Users\\lilib\\AppData\\Local\\Programs\\Python\\Python311\\Lib\\site-packages\\watchdog\\observers\\api.py\", line 204, in run\n",
      "    self.dispatch_events(self.event_queue)\n",
      "  File \"c:\\Users\\lilib\\AppData\\Local\\Programs\\Python\\Python311\\Lib\\site-packages\\watchdog\\observers\\api.py\", line 380, in dispatch_events\n",
      "    handler.dispatch(event)\n",
      "  File \"c:\\Users\\lilib\\AppData\\Local\\Programs\\Python\\Python311\\Lib\\site-packages\\watchdog\\events.py\", line 276, in dispatch\n",
      "    {\n",
      "  File \"C:\\Users\\lilib\\AppData\\Local\\Temp\\ipykernel_13388\\3974939611.py\", line 37, in on_modified\n",
      "  File \"C:\\Users\\lilib\\AppData\\Local\\Temp\\ipykernel_13388\\3974939611.py\", line 22, in checkFolderSize\n",
      "  File \"<frozen genericpath>\", line 50, in getsize\n",
      "FileNotFoundError: [WinError 3] The system cannot find the path specified: 'C:\\\\Users\\\\lilib\\\\Documents\\\\Cours M2\\\\Big Data\\\\Data_Streaming_tse\\\\AAPL_prices.csv\\\\AAPL_prices.csv'\n"
     ]
    },
    {
     "name": "stdout",
     "output_type": "stream",
     "text": [
      "C:\\Users\\lilib\\Documents\\Cours M2\\Big Data\\Data_Streaming_tse\\AAPL_prices.csv was modified\n"
     ]
    }
   ],
   "source": [
    "class MonitorFolder(FileSystemEventHandler):\n",
    "    \"\"\"\n",
    "    Class for monitoring any changes in folder of the csv file \n",
    "\n",
    "    Attributes :\n",
    "        MAX_SIZE (int) : Size threshold in bytes for the folder or file for triggerring parallelization\n",
    "\n",
    "    Methods :\n",
    "\n",
    "        on_created (event) : Prints message and calls checkFolderSize to check size of the folder when folder is created\n",
    "        on_modified (event) : Prints a message and calls checkFolderSize to check size of the folder when folder is created\n",
    "        on_deleted(event) : Prints a message when a file or folder is deleted\n",
    "        checkFolderSize(src_path) : Checks the size of a file or folder and prints a message if the size exceeds MAX_SIZE\n",
    "\n",
    "    https://medium.com/analytics-vidhya/monitoring-your-file-system-using-watchdog-64f7ad3279f\n",
    "\n",
    "    \"\"\"\n",
    "\n",
    "    MAX_SIZE = 1000\n",
    "\n",
    "    def checkFolderSize(self, src_path):\n",
    "        if os.path.getsize(src_path) > self.MAX_SIZE:\n",
    "            print(\"Directory getting big\")\n",
    "        else : \n",
    "            if os.path.getsize(src_path) > self.MAX_SIZE:\n",
    "                print(\"Very big file, commencing parallelization\")\n",
    "\n",
    "\n",
    "    def on_created(self, event):\n",
    "        print(f\"{event.src_path} was created\")\n",
    "        data = pd.read_csv(event.src_path + \"\\\\AAPL_prices.csv\")\n",
    "        self.checkFolderSize(event.src_path)\n",
    "        print(data)\n",
    "\n",
    "    def on_modified(self, event):\n",
    "        print(f\"{event.src_path} was modified\")\n",
    "        self.checkFolderSize(event.src_path + \"\\\\AAPL_prices.csv\")\n",
    "        data = pd.read_csv(event.src_path)\n",
    "\n",
    "    def on_deleted(self, event):\n",
    "        print(f\"{event.src_path} was deleted\")\n",
    "\n",
    "if __name__ == \"__main__\":\n",
    "    src_path = \"C:\\\\Users\\\\lilib\\\\Documents\\\\Cours M2\\\\Big Data\\\\Data_Streaming_tse\"\n",
    "    \n",
    "    event_handler=MonitorFolder()\n",
    "    observer = Observer()\n",
    "    observer.schedule(event_handler, path=src_path, recursive=True)\n",
    "    print(\"Monitoring started\")\n",
    "    observer.start()\n",
    "    try:\n",
    "        while(True):\n",
    "           time.sleep(1)\n",
    "           \n",
    "    except KeyboardInterrupt:\n",
    "            observer.stop()\n",
    "            observer.join()"
   ]
  }
 ],
 "metadata": {
  "kernelspec": {
   "display_name": "Python 3",
   "language": "python",
   "name": "python3"
  },
  "language_info": {
   "codemirror_mode": {
    "name": "ipython",
    "version": 3
   },
   "file_extension": ".py",
   "mimetype": "text/x-python",
   "name": "python",
   "nbconvert_exporter": "python",
   "pygments_lexer": "ipython3",
   "version": "3.11.1"
  },
  "orig_nbformat": 4
 },
 "nbformat": 4,
 "nbformat_minor": 2
}
