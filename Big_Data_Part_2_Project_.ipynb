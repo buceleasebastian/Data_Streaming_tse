{
  "cells": [
    {
      "cell_type": "markdown",
      "metadata": {
        "id": "UND2aBr1mX6D"
      },
      "source": [
        "# Creating the .csv"
      ]
    },
    {
      "cell_type": "code",
      "execution_count": 5,
      "metadata": {
        "colab": {
          "base_uri": "https://localhost:8080/"
        },
        "id": "Tpg9yj9W2Bo3",
        "outputId": "7822e461-330f-4f30-8886-4a58e9f85ae1"
      },
      "outputs": [
        {
          "name": "stdout",
          "output_type": "stream",
          "text": [
            "[*********************100%***********************]  1 of 1 completed\n"
          ]
        }
      ],
      "source": [
        "import yfinance as yf\n",
        "import pandas as pd\n",
        "\n",
        "# define the stock symbol and time range\n",
        "symbol = 'AAPL'\n",
        "start_date = '2023-01-01'\n",
        "end_date = '2023-03-01'\n",
        "\n",
        "# retrieve the stock price data\n",
        "data = yf.download(symbol, start=start_date, end=end_date, interval='1h')\n",
        "\n",
        "# save the data as a CSV file\n",
        "data.to_csv(f'{symbol}_prices.csv')\n",
        "\n",
        "#print(data.tail())"
      ]
    },
    {
      "cell_type": "code",
      "execution_count": 6,
      "metadata": {
        "id": "e3aE9Hc-dBxy"
      },
      "outputs": [
        {
          "name": "stdout",
          "output_type": "stream",
          "text": [
            "[*********************100%***********************]  1 of 1 completed\n",
            "[*********************100%***********************]  1 of 1 completed\n"
          ]
        },
        {
          "name": "stderr",
          "output_type": "stream",
          "text": [
            "C:\\Users\\lilib\\AppData\\Local\\Temp\\ipykernel_15324\\2305189225.py:30: FutureWarning: The frame.append method is deprecated and will be removed from pandas in a future version. Use pandas.concat instead.\n",
            "  data = data.append(new_data)\n"
          ]
        },
        {
          "name": "stdout",
          "output_type": "stream",
          "text": [
            "[*********************100%***********************]  1 of 1 completed\n",
            "[*********************100%***********************]  1 of 1 completed\n",
            "\n",
            "1 Failed download:\n",
            "- AAPL: No data found for this date range, symbol may be delisted\n"
          ]
        },
        {
          "name": "stderr",
          "output_type": "stream",
          "text": [
            "C:\\Users\\lilib\\AppData\\Local\\Temp\\ipykernel_15324\\2305189225.py:30: FutureWarning: The frame.append method is deprecated and will be removed from pandas in a future version. Use pandas.concat instead.\n",
            "  data = data.append(new_data)\n"
          ]
        },
        {
          "name": "stdout",
          "output_type": "stream",
          "text": [
            "[*********************100%***********************]  1 of 1 completed\n",
            "[*********************100%***********************]  1 of 1 completed\n",
            "\n",
            "1 Failed download:\n",
            "- AAPL: No data found for this date range, symbol may be delisted\n"
          ]
        },
        {
          "name": "stderr",
          "output_type": "stream",
          "text": [
            "C:\\Users\\lilib\\AppData\\Local\\Temp\\ipykernel_15324\\2305189225.py:30: FutureWarning: The frame.append method is deprecated and will be removed from pandas in a future version. Use pandas.concat instead.\n",
            "  data = data.append(new_data)\n"
          ]
        },
        {
          "ename": "KeyboardInterrupt",
          "evalue": "",
          "output_type": "error",
          "traceback": [
            "\u001b[1;31m---------------------------------------------------------------------------\u001b[0m",
            "\u001b[1;31mKeyboardInterrupt\u001b[0m                         Traceback (most recent call last)",
            "Cell \u001b[1;32mIn[6], line 36\u001b[0m\n\u001b[0;32m     33\u001b[0m     data\u001b[39m.\u001b[39mto_csv(filename)\n\u001b[0;32m     35\u001b[0m \u001b[39m# wait for 30 seconds before checking again\u001b[39;00m\n\u001b[1;32m---> 36\u001b[0m time\u001b[39m.\u001b[39;49msleep(\u001b[39m4\u001b[39;49m)\n",
            "\u001b[1;31mKeyboardInterrupt\u001b[0m: "
          ]
        }
      ],
      "source": [
        "import yfinance as yf\n",
        "import pandas as pd\n",
        "import os.path\n",
        "import time\n",
        "\n",
        "# define the stock symbol and time range\n",
        "symbol = 'AAPL'\n",
        "start_date = '2022-03-01'\n",
        "end_date = '2023-03-06'\n",
        "\n",
        "# check if the CSV file exists\n",
        "filename = f'{symbol}_prices.csv'\n",
        "if os.path.isfile(filename):\n",
        "    # if the file exists, read it in as a DataFrame\n",
        "    data = pd.read_csv(filename, index_col='Datetime', parse_dates=True)\n",
        "else:\n",
        "    # if the file doesn't exist, create an empty DataFrame\n",
        "    data = pd.DataFrame()\n",
        "\n",
        "while True:\n",
        "    # retrieve the latest available stock price data\n",
        "    latest_data = yf.download(symbol, period='1d', interval='1h').iloc[-1]\n",
        "\n",
        "    # check if the latest data is different from the last row in the existing DataFrame\n",
        "    if not data.empty and not latest_data.equals(data.tail(1).iloc[0]):\n",
        "        # retrieve any new stock price data since the last update\n",
        "        new_data = yf.download(symbol, start=data.index[-1] + pd.Timedelta(hours=1), end=end_date, interval='1h')\n",
        "\n",
        "        # append the new data to the existing DataFrame\n",
        "        data = data.append(new_data)\n",
        "\n",
        "        # save the updated data as a CSV file\n",
        "        data.to_csv(filename)\n",
        "\n",
        "    # wait for 30 seconds before checking again\n",
        "    time.sleep(4)"
      ]
    }
  ],
  "metadata": {
    "colab": {
      "provenance": []
    },
    "kernelspec": {
      "display_name": "Python 3",
      "name": "python3"
    },
    "language_info": {
      "codemirror_mode": {
        "name": "ipython",
        "version": 3
      },
      "file_extension": ".py",
      "mimetype": "text/x-python",
      "name": "python",
      "nbconvert_exporter": "python",
      "pygments_lexer": "ipython3",
      "version": "3.11.1"
    }
  },
  "nbformat": 4,
  "nbformat_minor": 0
}
