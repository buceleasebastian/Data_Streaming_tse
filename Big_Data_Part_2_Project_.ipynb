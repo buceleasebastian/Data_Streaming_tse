{
 "cells": [
  {
   "cell_type": "markdown",
   "metadata": {
    "id": "UND2aBr1mX6D"
   },
   "source": [
    "# Creating the .csv"
   ]
  },
  {
   "cell_type": "code",
   "execution_count": 71,
   "metadata": {},
   "outputs": [],
   "source": [
    "import yfinance as yf\n",
    "import pandas as pd\n",
    "import os.path\n",
    "import time\n",
    "import datetime\n",
    "import pytz\n",
    "from pandas import Timestamp"
   ]
  },
  {
   "cell_type": "markdown",
   "metadata": {},
   "source": [
    "First, we are going to create a .csv file for the first month of 2023."
   ]
  },
  {
   "cell_type": "code",
   "execution_count": 72,
   "metadata": {
    "colab": {
     "base_uri": "https://localhost:8080/"
    },
    "id": "Tpg9yj9W2Bo3",
    "outputId": "7822e461-330f-4f30-8886-4a58e9f85ae1"
   },
   "outputs": [
    {
     "name": "stdout",
     "output_type": "stream",
     "text": [
      "[*********************100%***********************]  1 of 1 completed\n",
      "                                 Open        High         Low       Close  \\\n",
      "Datetime                                                                    \n",
      "2023-01-31 11:30:00-05:00  143.535004  143.639999  142.979996  143.535004   \n",
      "2023-01-31 12:30:00-05:00  143.520004  143.660004  143.160004  143.414993   \n",
      "2023-01-31 13:30:00-05:00  143.419998  143.910004  143.299896  143.824997   \n",
      "2023-01-31 14:30:00-05:00  143.830002  144.039993  143.259995  143.304993   \n",
      "2023-01-31 15:30:00-05:00  143.300003  144.339996  143.119995  144.289993   \n",
      "\n",
      "                            Adj Close   Volume  \n",
      "Datetime                                        \n",
      "2023-01-31 11:30:00-05:00  143.535004  4771951  \n",
      "2023-01-31 12:30:00-05:00  143.414993  3376057  \n",
      "2023-01-31 13:30:00-05:00  143.824997  3694091  \n",
      "2023-01-31 14:30:00-05:00  143.304993  5273359  \n",
      "2023-01-31 15:30:00-05:00  144.289993  8519107  \n"
     ]
    }
   ],
   "source": [
    "# define the stock symbol and time range\n",
    "symbol = 'AAPL'\n",
    "start_date = '2023-01-01'\n",
    "end_date = '2023-02-01'\n",
    "\n",
    "# retrieve the stock price data\n",
    "data = yf.download(symbol, start=start_date, end=end_date, interval='1h')\n",
    "\n",
    "# save the data as a CSV file\n",
    "data.to_csv(f'{symbol}_prices.csv')\n",
    "\n",
    "print(data.tail())"
   ]
  },
  {
   "cell_type": "markdown",
   "metadata": {},
   "source": [
    "# Updating the .csv"
   ]
  },
  {
   "cell_type": "markdown",
   "metadata": {},
   "source": [
    "Now, we do check that the csv is created"
   ]
  },
  {
   "cell_type": "code",
   "execution_count": 73,
   "metadata": {},
   "outputs": [],
   "source": [
    "# check if the CSV file exists\n",
    "filename = f'{symbol}_prices.csv'\n",
    "if os.path.isfile(filename):\n",
    "    # if the file exists, read it in as a DataFrame\n",
    "    data = pd.read_csv(filename, index_col='Datetime', parse_dates=True)\n",
    "else:\n",
    "    # if the file doesn't exist, create an empty DataFrame\n",
    "    data = pd.DataFrame()"
   ]
  },
  {
   "cell_type": "markdown",
   "metadata": {},
   "source": [
    "Finally, we keep updating the .csv with the latest data"
   ]
  },
  {
   "cell_type": "code",
   "execution_count": 74,
   "metadata": {},
   "outputs": [
    {
     "name": "stdout",
     "output_type": "stream",
     "text": [
      "[*********************100%***********************]  1 of 1 completed\n",
      "[*********************100%***********************]  1 of 1 completed\n",
      "[*********************100%***********************]  1 of 1 completed\n",
      "[*********************100%***********************]  1 of 1 completed\n"
     ]
    },
    {
     "ename": "KeyboardInterrupt",
     "evalue": "",
     "output_type": "error",
     "traceback": [
      "\u001b[0;31m---------------------------------------------------------------------------\u001b[0m",
      "\u001b[0;31mKeyboardInterrupt\u001b[0m                         Traceback (most recent call last)",
      "\u001b[0;32m<ipython-input-74-0c82b77bd6b9>\u001b[0m in \u001b[0;36m<module>\u001b[0;34m\u001b[0m\n\u001b[1;32m     18\u001b[0m \u001b[0;34m\u001b[0m\u001b[0m\n\u001b[1;32m     19\u001b[0m     \u001b[0;31m# wait for 1 hour before checking again\u001b[0m\u001b[0;34m\u001b[0m\u001b[0;34m\u001b[0m\u001b[0;34m\u001b[0m\u001b[0m\n\u001b[0;32m---> 20\u001b[0;31m     \u001b[0mtime\u001b[0m\u001b[0;34m.\u001b[0m\u001b[0msleep\u001b[0m\u001b[0;34m(\u001b[0m\u001b[0;36m3600\u001b[0m\u001b[0;34m)\u001b[0m\u001b[0;34m\u001b[0m\u001b[0;34m\u001b[0m\u001b[0m\n\u001b[0m",
      "\u001b[0;31mKeyboardInterrupt\u001b[0m: "
     ]
    }
   ],
   "source": [
    "while True:\n",
    "    # retrieve the latest available stock price data\n",
    "    tz = pytz.timezone('America/New_York')\n",
    "    now = datetime.datetime.now(tz)\n",
    "    end_date = Timestamp(now)\n",
    "    latest_data = yf.download(symbol, period='1d', interval='1h').iloc[-1]\n",
    "\n",
    "    # check if the latest data is different from the last row in the existing DataFrame\n",
    "    if not data.empty and not latest_data.equals(data.tail(1).iloc[0]):\n",
    "        # retrieve any new stock price data since the last update\n",
    "        new_data = yf.download(symbol, start=data.index[-1] + pd.Timedelta(hours=1), end=end_date, interval='1h')\n",
    "\n",
    "        # append the new data to the existing DataFrame\n",
    "        data = pd.concat([data, new_data])\n",
    "\n",
    "        # save the updated data as a CSV file\n",
    "        data.to_csv(filename)\n",
    "\n",
    "    # wait for 1 hour before checking again\n",
    "    time.sleep(1800)"
   ]
  },
  {
   "cell_type": "code",
   "execution_count": 69,
   "metadata": {},
   "outputs": [
    {
     "data": {
      "text/html": [
       "<div>\n",
       "<style scoped>\n",
       "    .dataframe tbody tr th:only-of-type {\n",
       "        vertical-align: middle;\n",
       "    }\n",
       "\n",
       "    .dataframe tbody tr th {\n",
       "        vertical-align: top;\n",
       "    }\n",
       "\n",
       "    .dataframe thead th {\n",
       "        text-align: right;\n",
       "    }\n",
       "</style>\n",
       "<table border=\"1\" class=\"dataframe\">\n",
       "  <thead>\n",
       "    <tr style=\"text-align: right;\">\n",
       "      <th></th>\n",
       "      <th>Open</th>\n",
       "      <th>High</th>\n",
       "      <th>Low</th>\n",
       "      <th>Close</th>\n",
       "      <th>Adj Close</th>\n",
       "      <th>Volume</th>\n",
       "    </tr>\n",
       "  </thead>\n",
       "  <tbody>\n",
       "    <tr>\n",
       "      <th>2023-01-03 09:30:00-05:00</th>\n",
       "      <td>130.279999</td>\n",
       "      <td>130.899994</td>\n",
       "      <td>125.230003</td>\n",
       "      <td>125.459999</td>\n",
       "      <td>125.459999</td>\n",
       "      <td>27775505.0</td>\n",
       "    </tr>\n",
       "    <tr>\n",
       "      <th>2023-01-03 10:30:00-05:00</th>\n",
       "      <td>125.459999</td>\n",
       "      <td>125.870003</td>\n",
       "      <td>124.730003</td>\n",
       "      <td>125.345001</td>\n",
       "      <td>125.345001</td>\n",
       "      <td>18104999.0</td>\n",
       "    </tr>\n",
       "    <tr>\n",
       "      <th>2023-01-03 11:30:00-05:00</th>\n",
       "      <td>125.350197</td>\n",
       "      <td>125.370003</td>\n",
       "      <td>124.349098</td>\n",
       "      <td>124.660004</td>\n",
       "      <td>124.660004</td>\n",
       "      <td>11248777.0</td>\n",
       "    </tr>\n",
       "    <tr>\n",
       "      <th>2023-01-03 12:30:00-05:00</th>\n",
       "      <td>124.660004</td>\n",
       "      <td>124.940002</td>\n",
       "      <td>124.190002</td>\n",
       "      <td>124.649902</td>\n",
       "      <td>124.649902</td>\n",
       "      <td>8860080.0</td>\n",
       "    </tr>\n",
       "    <tr>\n",
       "      <th>2023-01-03 13:30:00-05:00</th>\n",
       "      <td>124.669899</td>\n",
       "      <td>125.000000</td>\n",
       "      <td>124.190002</td>\n",
       "      <td>124.570000</td>\n",
       "      <td>124.570000</td>\n",
       "      <td>8388062.0</td>\n",
       "    </tr>\n",
       "    <tr>\n",
       "      <th>...</th>\n",
       "      <td>...</td>\n",
       "      <td>...</td>\n",
       "      <td>...</td>\n",
       "      <td>...</td>\n",
       "      <td>...</td>\n",
       "      <td>...</td>\n",
       "    </tr>\n",
       "    <tr>\n",
       "      <th>2023-04-06 14:30:00-04:00</th>\n",
       "      <td>164.809998</td>\n",
       "      <td>164.940002</td>\n",
       "      <td>164.470001</td>\n",
       "      <td>164.514999</td>\n",
       "      <td>164.514999</td>\n",
       "      <td>3861450.0</td>\n",
       "    </tr>\n",
       "    <tr>\n",
       "      <th>2023-04-06 15:30:00-04:00</th>\n",
       "      <td>164.520004</td>\n",
       "      <td>164.759903</td>\n",
       "      <td>164.320007</td>\n",
       "      <td>164.649994</td>\n",
       "      <td>164.649994</td>\n",
       "      <td>4488051.0</td>\n",
       "    </tr>\n",
       "    <tr>\n",
       "      <th>2023-04-10 09:30:00-04:00</th>\n",
       "      <td>161.419998</td>\n",
       "      <td>162.000000</td>\n",
       "      <td>160.080002</td>\n",
       "      <td>160.154999</td>\n",
       "      <td>160.154999</td>\n",
       "      <td>15225797.0</td>\n",
       "    </tr>\n",
       "    <tr>\n",
       "      <th>2023-04-10 10:30:00-04:00</th>\n",
       "      <td>160.160004</td>\n",
       "      <td>161.399994</td>\n",
       "      <td>160.145004</td>\n",
       "      <td>161.134995</td>\n",
       "      <td>161.134995</td>\n",
       "      <td>6669628.0</td>\n",
       "    </tr>\n",
       "    <tr>\n",
       "      <th>2023-04-10 11:30:00-04:00</th>\n",
       "      <td>161.140793</td>\n",
       "      <td>161.610001</td>\n",
       "      <td>160.600006</td>\n",
       "      <td>160.675003</td>\n",
       "      <td>160.675003</td>\n",
       "      <td>3635083.0</td>\n",
       "    </tr>\n",
       "  </tbody>\n",
       "</table>\n",
       "<p>465 rows × 6 columns</p>\n",
       "</div>"
      ],
      "text/plain": [
       "                                 Open        High         Low       Close  \\\n",
       "2023-01-03 09:30:00-05:00  130.279999  130.899994  125.230003  125.459999   \n",
       "2023-01-03 10:30:00-05:00  125.459999  125.870003  124.730003  125.345001   \n",
       "2023-01-03 11:30:00-05:00  125.350197  125.370003  124.349098  124.660004   \n",
       "2023-01-03 12:30:00-05:00  124.660004  124.940002  124.190002  124.649902   \n",
       "2023-01-03 13:30:00-05:00  124.669899  125.000000  124.190002  124.570000   \n",
       "...                               ...         ...         ...         ...   \n",
       "2023-04-06 14:30:00-04:00  164.809998  164.940002  164.470001  164.514999   \n",
       "2023-04-06 15:30:00-04:00  164.520004  164.759903  164.320007  164.649994   \n",
       "2023-04-10 09:30:00-04:00  161.419998  162.000000  160.080002  160.154999   \n",
       "2023-04-10 10:30:00-04:00  160.160004  161.399994  160.145004  161.134995   \n",
       "2023-04-10 11:30:00-04:00  161.140793  161.610001  160.600006  160.675003   \n",
       "\n",
       "                            Adj Close      Volume  \n",
       "2023-01-03 09:30:00-05:00  125.459999  27775505.0  \n",
       "2023-01-03 10:30:00-05:00  125.345001  18104999.0  \n",
       "2023-01-03 11:30:00-05:00  124.660004  11248777.0  \n",
       "2023-01-03 12:30:00-05:00  124.649902   8860080.0  \n",
       "2023-01-03 13:30:00-05:00  124.570000   8388062.0  \n",
       "...                               ...         ...  \n",
       "2023-04-06 14:30:00-04:00  164.514999   3861450.0  \n",
       "2023-04-06 15:30:00-04:00  164.649994   4488051.0  \n",
       "2023-04-10 09:30:00-04:00  160.154999  15225797.0  \n",
       "2023-04-10 10:30:00-04:00  161.134995   6669628.0  \n",
       "2023-04-10 11:30:00-04:00  160.675003   3635083.0  \n",
       "\n",
       "[465 rows x 6 columns]"
      ]
     },
     "execution_count": 69,
     "metadata": {},
     "output_type": "execute_result"
    }
   ],
   "source": [
    "data"
   ]
  },
  {
   "cell_type": "code",
   "execution_count": null,
   "metadata": {},
   "outputs": [],
   "source": []
  }
 ],
 "metadata": {
  "colab": {
   "provenance": []
  },
  "kernelspec": {
   "display_name": "Python 3",
   "language": "python",
   "name": "python3"
  },
  "language_info": {
   "codemirror_mode": {
    "name": "ipython",
    "version": 3
   },
   "file_extension": ".py",
   "mimetype": "text/x-python",
   "name": "python",
   "nbconvert_exporter": "python",
   "pygments_lexer": "ipython3",
   "version": "3.7.6"
  }
 },
 "nbformat": 4,
 "nbformat_minor": 1
}
